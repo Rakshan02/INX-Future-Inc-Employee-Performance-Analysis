{
  "nbformat": 4,
  "nbformat_minor": 0,
  "metadata": {
    "colab": {
      "provenance": []
    },
    "kernelspec": {
      "name": "python3",
      "display_name": "Python 3"
    },
    "language_info": {
      "name": "python"
    }
  },
  "cells": [
    {
      "cell_type": "markdown",
      "source": [
        "# Data Requirement\n",
        "\n",
        "* The Data for this project is provided by IABAC, where the collected source is IABAC.\n",
        "* The data is based on INX Future Inc - Employee Data.\n",
        "* The historical employee performance data spanning past five years, includinh demographics,dapartment, performance rating, and relevent metrics\n",
        "\n",
        "## Tools\n",
        "\n",
        "* Language - Python Programming\n",
        "* Libraries - Python, Numpy, Pandas,pylab,Sklearn,Pickle, Malplotlib, Seaborn, Scipy.\n",
        "* Platform - Google Colaboratory\n",
        "\n",
        "## Hardware\n",
        "\n",
        "* Machine with atleast 8GB RAM and octa core processor to handle the large dataset efficiently.\n",
        "* Additionally, access to a GPU is preferred for accelerated model training."
      ],
      "metadata": {
        "id": "0tsm20-dRjbp"
      }
    }
  ]
}